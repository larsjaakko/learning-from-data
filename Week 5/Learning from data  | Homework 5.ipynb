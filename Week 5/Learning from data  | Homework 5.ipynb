{
 "cells": [
  {
   "cell_type": "markdown",
   "metadata": {},
   "source": [
    "# Learning from data HW 5"
   ]
  },
  {
   "cell_type": "markdown",
   "metadata": {},
   "source": [
    "## Linear Regression Error\n",
    "Consider a noisy target y = w∗T x + \u000f, where x ∈ R\n",
    "d\n",
    "(with the added coordinate\n",
    "x0 = 1), y ∈ R, w∗\n",
    "is an unknown vector, and \u000f is a noise term with zero mean and\n",
    "σ\n",
    "2 variance. Assume \u000f is independent of x and of all other \u000f’s. If linear regression\n",
    "is carried out using a training data set D = {(x1, y1), . . . ,(xN , yN )}, and outputs the\n",
    "parameter vector wlin, it can be shown that the expected in-sample error Ein with\n",
    "respect to D is given by:\n",
    "ED[Ein(wlin)] = σ\n",
    "2\n",
    "\u0012\n",
    "1 −\n",
    "d + 1\n",
    "N\n",
    "\u0013\n",
    "### 1)\n",
    "For σ = 0.1 and d = 8, which among the following choices is the smallest\n",
    "number of examples N that will result in an expected Ein greater than 0.008?\n",
    "\n",
    "- [a] 10\n",
    "- [b] 25\n",
    "- [c] 100\n",
    "- [d] 500\n",
    "- [e] 1000"
   ]
  },
  {
   "cell_type": "code",
   "execution_count": 7,
   "metadata": {
    "collapsed": true
   },
   "outputs": [],
   "source": [
    "# Defining the expression to plug in the different N's\n",
    "\n",
    "def e_in(N):\n",
    "    return float(0.01*(1-(9/N)))"
   ]
  },
  {
   "cell_type": "code",
   "execution_count": 9,
   "metadata": {
    "collapsed": false
   },
   "outputs": [
    {
     "name": "stdout",
     "output_type": "stream",
     "text": [
      "0.01\n",
      "0.01\n",
      "0.01\n",
      "0.01\n",
      "0.01\n"
     ]
    }
   ],
   "source": [
    "X = [10, 25, 100, 500, 1000]\n",
    "\n",
    "for x in X:\n",
    "    print e_in(x)"
   ]
  },
  {
   "cell_type": "code",
   "execution_count": 8,
   "metadata": {
    "collapsed": false
   },
   "outputs": [
    {
     "data": {
      "text/plain": [
       "0.01"
      ]
     },
     "execution_count": 8,
     "metadata": {},
     "output_type": "execute_result"
    }
   ],
   "source": [
    "e_in(100)"
   ]
  },
  {
   "cell_type": "code",
   "execution_count": null,
   "metadata": {
    "collapsed": true
   },
   "outputs": [],
   "source": []
  }
 ],
 "metadata": {
  "kernelspec": {
   "display_name": "Python [conda root]",
   "language": "python",
   "name": "conda-root-py"
  },
  "language_info": {
   "codemirror_mode": {
    "name": "ipython",
    "version": 2
   },
   "file_extension": ".py",
   "mimetype": "text/x-python",
   "name": "python",
   "nbconvert_exporter": "python",
   "pygments_lexer": "ipython2",
   "version": "2.7.13"
  }
 },
 "nbformat": 4,
 "nbformat_minor": 2
}
