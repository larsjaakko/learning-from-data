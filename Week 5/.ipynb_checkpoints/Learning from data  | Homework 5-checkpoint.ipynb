{
 "cells": [
  {
   "cell_type": "markdown",
   "metadata": {},
   "source": [
    "# Learning from data HW 5"
   ]
  },
  {
   "cell_type": "markdown",
   "metadata": {},
   "source": [
    "## Linear Regression Error\n",
    "Consider a noisy target y = w∗T x + \u000f, where x ∈ R\n",
    "d\n",
    "(with the added coordinate\n",
    "x0 = 1), y ∈ R, w∗\n",
    "is an unknown vector, and \u000f is a noise term with zero mean and\n",
    "σ\n",
    "2 variance. Assume \u000f is independent of x and of all other \u000f’s. If linear regression\n",
    "is carried out using a training data set D = {(x1, y1), . . . ,(xN , yN )}, and outputs the\n",
    "parameter vector wlin, it can be shown that the expected in-sample error Ein with\n",
    "respect to D is given by:\n",
    "ED[Ein(wlin)] = σ\n",
    "2\n",
    "\u0012\n",
    "1 −\n",
    "d + 1\n",
    "N\n",
    "\u0013\n",
    "### 1)\n",
    "For σ = 0.1 and d = 8, which among the following choices is the smallest\n",
    "number of examples N that will result in an expected Ein greater than 0.008?\n",
    "\n",
    "- [a] 10\n",
    "- [b] 25\n",
    "- [c] 100\n",
    "- [d] 500\n",
    "- [e] 1000"
   ]
  },
  {
   "cell_type": "code",
   "execution_count": 39,
   "metadata": {
    "collapsed": false
   },
   "outputs": [],
   "source": [
    "# Defining the expression to plug in the different Ns\n",
    "\n",
    "def e_in(N):\n",
    "    return (0.01*((1-(float(9)/N))))"
   ]
  },
  {
   "cell_type": "code",
   "execution_count": 40,
   "metadata": {
    "collapsed": false
   },
   "outputs": [
    {
     "name": "stdout",
     "output_type": "stream",
     "text": [
      "0.0010\n",
      "0.0064\n",
      "0.0091\n",
      "0.0098\n",
      "0.0099\n"
     ]
    }
   ],
   "source": [
    "X = [10, 25, 100, 500, 1000]\n",
    "\n",
    "for i in X:\n",
    "    print \"{0:0.4f}\".format(e_in(i))"
   ]
  },
  {
   "cell_type": "markdown",
   "metadata": {},
   "source": [
    "As we can tell, the third value (100) is the first to cross the 0.008 limit"
   ]
  },
  {
   "cell_type": "markdown",
   "metadata": {},
   "source": [
    "## Gradient Descent\n",
    "Consider the nonlinear error surface E(u, v) = (uev − 2ve−u)\n",
    "\n",
    "### 4)\n",
    "We start at the point\n",
    "(u, v) = (1, 1) and minimize this error using gradient descent in the uv space. Use\n",
    "η = 0.1 (learning rate, not step size).\n",
    "\n",
    "4. What is the partial derivative of E(u, v) with respect to u, i.e., ∂E\n",
    "∂u ?\n",
    "[a] (uev − 2ve−u\n",
    ")\n",
    "2\n",
    "[b] 2(uev − 2ve−u\n",
    ")\n",
    "[c] 2(e\n",
    "v + 2ve−u\n",
    ")\n",
    "[d] 2(e\n",
    "v − 2ve−u\n",
    ")(uev − 2ve−u\n",
    ")\n",
    "[e] 2(e\n",
    "v + 2ve−u\n",
    ")(uev − 2ve−u\n",
    ")"
   ]
  },
  {
   "cell_type": "markdown",
   "metadata": {},
   "source": [
    "Using the chain rule, and that $\\frac{d}{dx} e^{-x} = -e^{-x}$, we quickly find that the answer is **e)**"
   ]
  },
  {
   "cell_type": "markdown",
   "metadata": {},
   "source": [
    "### 5)"
   ]
  },
  {
   "cell_type": "code",
   "execution_count": 43,
   "metadata": {
    "collapsed": true
   },
   "outputs": [],
   "source": [
    "import numpy as np\n",
    "import matplotlib.pyplot as plt\n",
    "%matplotlib inline\n",
    "\n",
    "def E_uv(u, v):\n",
    "    return (u * np.exp(v) - 2 * v * np.exp(-u))**2"
   ]
  },
  {
   "cell_type": "code",
   "execution_count": 48,
   "metadata": {
    "collapsed": true
   },
   "outputs": [],
   "source": [
    "def dE_du(u, v):\n",
    "    return 2*(np.exp(v) + 2* v * np.exp(-u)) * (u * np.exp(v) - 2 * v * np.exp(-u))"
   ]
  },
  {
   "cell_type": "code",
   "execution_count": 45,
   "metadata": {
    "collapsed": true
   },
   "outputs": [],
   "source": [
    "def dE_dv(u, v):\n",
    "    return 2 * (u * np.exp(v) - 2 * np.exp(-u)) * (u * np.exp(v) - 2 * v * np.exp(-u))"
   ]
  },
  {
   "cell_type": "code",
   "execution_count": 55,
   "metadata": {
    "collapsed": false
   },
   "outputs": [
    {
     "name": "stdout",
     "output_type": "stream",
     "text": [
      "E_t fot t = 0 was 1.15950972997\n",
      "E_t fot t = 1 was 1.00740748296\n",
      "E_t fot t = 2 was 0.0990091216273\n",
      "E_t fot t = 3 was 0.00866064536281\n",
      "E_t fot t = 4 was 0.000181755791728\n",
      "E_t fot t = 5 was 1.29723984784e-06\n",
      "E_t fot t = 6 was 7.29152469846e-09\n",
      "E_t fot t = 7 was 4.00999789056e-11\n",
      "E_t fot t = 8 was 2.20168344841e-13\n",
      "E_t fot t = 9 was 1.20868339442e-15\n",
      "Tolerance reached after 10 iterations\n",
      "The current (u,v) is (0.0447362903978,0.0239587140991)\n"
     ]
    }
   ],
   "source": [
    "# Gradient descent maafaakkaaas\n",
    "# In this here case we don't explicitly work with weights w(t), but rather u and v\n",
    "\n",
    "# Step 1 - Initialize w(0)\n",
    "\n",
    "u_0 = 1\n",
    "v_0 = 1\n",
    "\n",
    "# We set u and v in time t to this before the first iteration\n",
    "\n",
    "u_t = u_0\n",
    "v_t = v_0\n",
    "\n",
    "# We set the initial error value, and E_t to match this before any iterations of SGD\n",
    "\n",
    "E_0 = E_uv(u_0, v_0)\n",
    "\n",
    "E_t = E_0\n",
    "\n",
    "tolerance = 1e-14\n",
    "\n",
    "# Set the learning rate\n",
    "# Set iterator to 0\n",
    "rate = 0.1\n",
    "iterations = 0\n",
    "\n",
    "while E_t > tolerance:\n",
    "    \n",
    "    # Calculate new weights\n",
    "    u_t1 = u_t - rate * dE_du(u_t, v_t)\n",
    "    v_t1 = v_t - rate * dE_dv(u_t, v_t)\n",
    "    \n",
    "    # Set new weights to time t\n",
    "    u_t = u_t1\n",
    "    v_t = v_t1\n",
    "    \n",
    "    # Calculate new error value in time t\n",
    "    E_t1 = E_uv(u_t, v_t)\n",
    "    \n",
    "    E_t = E_t1\n",
    "    \n",
    "    print ('E_t fot t = {} was {}').format(iterations, E_t)\n",
    "    \n",
    "    iterations += 1\n",
    "    \n",
    "print ('Tolerance reached after {} iterations').format(iterations)\n",
    "print ('The current (u,v) is ({},{})').format(u_t, v_t)\n"
   ]
  },
  {
   "cell_type": "markdown",
   "metadata": {},
   "source": [
    "We reach the given level of error tolerance after **10** iterations, meaning the correct answer is **d)**."
   ]
  },
  {
   "cell_type": "markdown",
   "metadata": {},
   "source": [
    "### 6)"
   ]
  },
  {
   "cell_type": "markdown",
   "metadata": {},
   "source": [
    "In the Euclidean plane, if p = (p1, p2) and q = (q1, q2) then the distance is given by\n",
    "\n",
    "${\\displaystyle \\mathrm {d} (\\mathbf {p} ,\\mathbf {q} )={\\sqrt {(q_{1}-p_{1})^{2}+(q_{2}-p_{2})^{2}}}.}$\n",
    "\n",
    "This is equivalent to the Pythagorean theorem."
   ]
  },
  {
   "cell_type": "code",
   "execution_count": 58,
   "metadata": {
    "collapsed": false
   },
   "outputs": [
    {
     "name": "stdout",
     "output_type": "stream",
     "text": [
      "Distance to a is 1.36571788692\n",
      "Distance to b is 0.668594885774\n",
      "Distance to c is 0.0926123232022\n",
      "Distance to d is 0.127835732282\n",
      "Distance to e is 0.000266921861049\n"
     ]
    }
   ],
   "source": [
    "def euclidean_distance(u, v, point):\n",
    "    return np.sqrt((u-point[0])**2 + (v-point[1])**2)\n",
    "\n",
    "u_t = 0.0447362903978\n",
    "v_t = 0.0239587140991\n",
    "\n",
    "a = [1, 1]\n",
    "b = [0.713, 0.045]\n",
    "c = [0.016, 0.112]\n",
    "d = [-0.083, 0.029]\n",
    "e = [0.045, 0.024]\n",
    "\n",
    "print ('Distance to a is {}').format(euclidean_distance(u_t, v_t, a))\n",
    "print ('Distance to b is {}').format(euclidean_distance(u_t, v_t, b))\n",
    "print ('Distance to c is {}').format(euclidean_distance(u_t, v_t, c))\n",
    "print ('Distance to d is {}').format(euclidean_distance(u_t, v_t, d))\n",
    "print ('Distance to e is {}').format(euclidean_distance(u_t, v_t, e))\n"
   ]
  },
  {
   "cell_type": "markdown",
   "metadata": {},
   "source": [
    "We can see from the above that the distance to **e** is the smallest."
   ]
  },
  {
   "cell_type": "markdown",
   "metadata": {},
   "source": [
    "### 7) \n",
    "Now, we will compare the performance of “coordinate descent.” In each iteration,\n",
    "we have two steps along the 2 coordinates. Step 1 is to move only along\n",
    "the u coordinate to reduce the error (assume first-order approximation holds\n",
    "like in gradient descent), and step 2 is to reevaluate and move only along the v\n",
    "coordinate to reduce the error (again, assume first-order approximation holds).\n",
    "Use the same learning rate of η = 0.1 as we did in gradient descent. What will\n",
    "the error E(u, v) be closest to after 15 full iterations (30 steps)?\n",
    "\n",
    "[a] 10−1\n",
    "[b] 10−7\n",
    "[c] 10−14\n",
    "[d] 10−17\n",
    "[e] 10−20"
   ]
  },
  {
   "cell_type": "code",
   "execution_count": 61,
   "metadata": {
    "collapsed": false
   },
   "outputs": [
    {
     "name": "stdout",
     "output_type": "stream",
     "text": [
      "E_t for t = 0 was 34.2901631123\n",
      "E_t for t = 1 was 0.534142591372\n",
      "E_t for t = 2 was 0.432660827324\n",
      "E_t for t = 3 was 0.365039735019\n",
      "E_t for t = 4 was 0.31646807536\n",
      "E_t for t = 5 was 0.279763423064\n",
      "E_t for t = 6 was 0.250986311675\n",
      "E_t for t = 7 was 0.227783298944\n",
      "E_t for t = 8 was 0.208656695724\n",
      "E_t for t = 9 was 0.192605658614\n",
      "E_t for t = 10 was 0.178934748408\n",
      "E_t for t = 11 was 0.167145054343\n",
      "E_t for t = 12 was 0.15686898733\n",
      "E_t for t = 13 was 0.147829522524\n",
      "E_t for t = 14 was 0.139813791996\n",
      "Estimated error after 15 iterations: 0.139813791996\n",
      "The current (u,v) is (6.29707589931,-2.85230695408)\n"
     ]
    }
   ],
   "source": [
    "# Gradient descent maafaakkaaas\n",
    "# In this here case we don't explicitly work with weights w(t), but rather u and v\n",
    "\n",
    "# Step 1 - Initialize w(0)\n",
    "\n",
    "u_0 = 1\n",
    "v_0 = 1\n",
    "\n",
    "# We set u and v in time t to this before the first iteration\n",
    "\n",
    "u_t = u_0\n",
    "v_t = v_0\n",
    "\n",
    "# We set the initial error value, and E_t to match this before any iterations of SGD\n",
    "\n",
    "E_0 = E_uv(u_0, v_0)\n",
    "\n",
    "E_t = E_0\n",
    "\n",
    "tolerance = 1e-14\n",
    "\n",
    "# Set the learning rate\n",
    "# Set iterator to 0\n",
    "rate = 0.1\n",
    "iterations = 0\n",
    "\n",
    "while iterations < 15:\n",
    "    \n",
    "    # Calculate new u weight \n",
    "    u_t1 = u_t - rate * dE_du(u_t, v_t)\n",
    "    u_t = u_t1\n",
    "    \n",
    "    # Calculate new v weight and update error\n",
    "    v_t1 = v_t - rate * dE_dv(u_t, v_t)\n",
    "    v_t = v_t1\n",
    "    \n",
    "    E_t1 = E_uv(u_t, v_t)\n",
    "        \n",
    "    E_t = E_t1\n",
    "    \n",
    "    print ('E_t for t = {} was {}').format(iterations, E_t)\n",
    "    \n",
    "    iterations += 1\n",
    "    \n",
    "print ('Estimated error after 15 iterations: {}').format(E_t)\n",
    "print ('The current (u,v) is ({},{})').format(u_t, v_t)"
   ]
  },
  {
   "cell_type": "markdown",
   "metadata": {},
   "source": [
    "According to my calculations, the answer should be **a)**. Barring any misunderstandings regarding the algorithm, of course."
   ]
  },
  {
   "cell_type": "markdown",
   "metadata": {},
   "source": [
    "## Logistic Regression\n",
    "In this problem you will create your own target function f (probability in this case)\n",
    "and data set D to see how Logistic Regression works. For simplicity, we will take f\n",
    "to be a 0/1 probability so y is a deterministic function of x.\n",
    "\n",
    "Take d = 2 so you can visualize the problem, and let X = [−1, 1]×[−1, 1] with uniform\n",
    "probability of picking each x ∈ X . Choose a line in the plane as the boundary between\n",
    "f(x) = 1 (where y has to be +1) and f(x) = 0 (where y has to be −1) by taking two\n",
    "random, uniformly distributed points from X and taking the line passing through\n",
    "4\n",
    "them as the boundary between y = ±1. Pick N = 100 training points at random\n",
    "from X , and evaluate the outputs yn for each of these points xn.\n",
    "\n",
    "Run Logistic Regression with Stochastic Gradient Descent to find g, and estimate Eout\n",
    "(the cross entropy error) by generating a sufficiently large, separate set of points to\n",
    "evaluate the error. Repeat the experiment for 100 runs with different targets and take\n",
    "the average. \n",
    "\n",
    "Initialize the weight vector of Logistic Regression to all zeros in each\n",
    "run. Stop the algorithm when kw(t−1) − w(t)k < 0.01, where w(t) denotes the weight\n",
    "vector at the end of epoch t. An epoch is a full pass through the N data points (use a\n",
    "random permutation of 1, 2, · · · , N to present the data points to the algorithm within\n",
    "each epoch, and use different permutations for different epochs). Use a learning rate\n",
    "of 0.01."
   ]
  },
  {
   "cell_type": "code",
   "execution_count": 175,
   "metadata": {
    "collapsed": true
   },
   "outputs": [],
   "source": [
    "def create_target():\n",
    "\n",
    "    targetA = np.random.uniform(-1, 1, 2)\n",
    "    targetB = np.random.uniform(-1, 1, 2)\n",
    "\n",
    "    w_1 = (targetB[0] - targetA[0]/targetB[1] - targetA[1])\n",
    "    w_0 = targetA[1] - w_1 * targetA[0]\n",
    "    \n",
    "    w_fx = np.array((w_0, w_1))\n",
    "    \n",
    "    # print ('Created initial random line with weights: {}').format(w_fx)\n",
    "\n",
    "    return w_fx"
   ]
  },
  {
   "cell_type": "code",
   "execution_count": 108,
   "metadata": {
    "collapsed": false
   },
   "outputs": [
    {
     "name": "stdout",
     "output_type": "stream",
     "text": [
      "Created initial random line with weights: [ 2.81149345  4.95101121]\n"
     ]
    }
   ],
   "source": [
    "weights = create_target()"
   ]
  },
  {
   "cell_type": "code",
   "execution_count": 116,
   "metadata": {
    "collapsed": true
   },
   "outputs": [],
   "source": [
    "# Helper functions to switch between 2 and 3-dimensional weight vectors\n",
    "# In effect these functions add and remove a constant column  of 1's (w0 = 1)\n",
    "# This is stolen from a solution to the task. The point is to simplify calculation of labels, \n",
    "# as the X matrix is 3-dimensional\n",
    "\n",
    "w_3dim_to_2dim_2 = lambda w_3dim:  -(w_3dim)[:2]\n",
    "w_2dim_to_3dim = lambda w_2dim:  np.hstack((-w_2dim, 1))"
   ]
  },
  {
   "cell_type": "code",
   "execution_count": 118,
   "metadata": {
    "collapsed": true
   },
   "outputs": [],
   "source": [
    "# This is stolen from http://nbviewer.jupyter.org/github/tournami/Learning-From-Data-MOOC/blob/master/Homework%205.html\n",
    "# Not entirely sure why the signs are evaluated using a dot product in the below way, \n",
    "# but I'll accept it to get on with it\n",
    "# Would have used the sign of the determinant of ([x2-x1, x3-x1], [y2-y1, y3-y1]) had I had the time and interest to\n",
    "# do it from scratch. See week 1 for my own implementation of this.\n",
    "\n",
    "def create_random_points_and_labels(N, weights_fx):\n",
    "    \"\"\"Creates N random points in the space of  [−1, 1] × [−1, 1]\n",
    "       and them labels them based on what side of of the line they\n",
    "       land on based on weights_fx.\n",
    "       \n",
    "    Args:\n",
    "    \n",
    "        N: Number of random points\n",
    "        weights_fx:  tuple representing (intercept, slope) of f(x)\n",
    "    \n",
    "    Returns:\n",
    "    \n",
    "        A tuple of the following items:\n",
    "            X: an N X D array representing the coordinates of of the points\n",
    "            Y: an N X 1 array representing +1 or -1 depending on which side of\n",
    "               the points land in relation to fx \n",
    "    \"\"\"\n",
    "    \n",
    "    X = np.hstack((np.ones((N, 1)), np.random.uniform(-1,1,(N,2)))) # Creates an X matrix with an intercept column of 1s and random x1s and x2s\n",
    "    \n",
    "    w_fx = w_2dim_to_3dim (weights_fx) # Makes the weights three-dimensional to match the X vector (not sure he wouldn't just add the column of 1s to the X matrix at the end, though?)\n",
    "    score = np.dot(X, w_fx)\n",
    "    \n",
    "    Y = np.where(np.exp(score) / (1 + np.exp(score))> 0.5 , 1, -1)\n",
    "    Y = np.expand_dims(Y, 1) # need to change array into vector for calcs to work out!\n",
    "    \n",
    "    return(X, Y, w_fx)"
   ]
  },
  {
   "cell_type": "code",
   "execution_count": 120,
   "metadata": {
    "collapsed": true
   },
   "outputs": [],
   "source": [
    "# Also stealing a helper function to plot the lines and points as we go along\n",
    "\n",
    "def plot_points_and_lines(weights_fx, X, Y, color=\"blue\", label=\"f(x)\"):\n",
    "    \"\"\"Creates the plot of f(x) and g(x) lines along with labeled points\n",
    "    \n",
    "       Args:\n",
    "        weights_fx:  tuple representing (intercept, slope) of f(x)\n",
    "        weights_gx:  tuple representing (intercept, slope) of g(x)\n",
    "        X: an N X D array representing the coordinates of of the points\n",
    "        Y: an N X 1 array representing +1 or -1\n",
    "        \n",
    "    \"\"\"\n",
    "    \n",
    "    line = np.linspace(-1, 1, 1001) # points from 0-1000\n",
    "    \n",
    "    plt.plot(line, line * weights_fx[1] + weights_fx[0], label=label, color=color) # makes f(x) line\n",
    "    \n",
    "    plt.ylim(-1, 1)\n",
    "    plt.xlim(-1, 1)\n",
    "    \n",
    "    plt.scatter(X[:, 1][Y.ravel()==1],  X[:, 2][Y.ravel()== 1], marker=\"+\", c=(\"r\"), label=\"+\")\n",
    "    plt.scatter(X[:, 1][Y.ravel()==-1], X[:, 2][Y.ravel()==-1], marker=\"_\", c=(\"b\"), label=\"-\")# colored based on Y = +1 or -1\n",
    "    plt.legend(loc=\"best\")"
   ]
  },
  {
   "cell_type": "code",
   "execution_count": 122,
   "metadata": {
    "collapsed": false
   },
   "outputs": [
    {
     "name": "stdout",
     "output_type": "stream",
     "text": [
      "Created initial random line with weights: [-0.4637157   1.96871213]\n"
     ]
    },
    {
     "data": {
      "image/png": "[encoded data removed]",
      "text/plain": [
       "<matplotlib.figure.Figure at 0x10a08af90>"
      ]
     },
     "metadata": {},
     "output_type": "display_data"
    }
   ],
   "source": [
    "w_fx = create_target()\n",
    "X, Y, w = create_random_points_and_labels(100, w_fx)\n",
    "plot_points_and_lines(w_fx, X, Y)"
   ]
  },
  {
   "cell_type": "code",
   "execution_count": 168,
   "metadata": {
    "collapsed": true
   },
   "outputs": [],
   "source": [
    "def logistic_regression_SGD(N=100):\n",
    "       \n",
    "    w_fx = create_target()  # make a random f(x)\n",
    "    X, Y, w_fx_3d = create_random_points_and_labels(N, w_fx) # now create points and labels\n",
    "        \n",
    "    epsilon = 0.01\n",
    "    eta = 0.01\n",
    "    epoch = 0\n",
    "    \n",
    "    w_gx_t = np.zeros(len(w_fx_3d))  # initialize your g(x) weights to zero\n",
    "    \n",
    "    tolerance = np.inf # initialize an arbitrary hight tolerance infinity should work ;)\n",
    "    tolerances = [] # to create a nice graph to look at our ||w(t-1) - w(t)|| over epochs\n",
    "    \n",
    "    while tolerance > epsilon: \n",
    "        idx = np.arange(N)\n",
    "        np.random.shuffle(idx) # shuffle indices\n",
    "        \n",
    "        w_gx = np.copy(w_gx_t) # w(n) = w(t)\n",
    "                               # I have to make a deep copy or else \n",
    "                               # I'll create a cyclic reference!\n",
    "        gradient = 0\n",
    "        \n",
    "        for n in idx: # go through shuffled data points and labels\n",
    "            gradient = - (Y[n] * X[n])/(1 + np.exp(Y[n] * np.dot(w_gx, X[n]))) # no need to sum and divide by N = 1 \n",
    "            w_gx -= eta * gradient # stochastic update for single data point\n",
    "            \n",
    "            # This is the whole point of SGD\n",
    "            # Instead of calculating a batch GD, that moves the weights once based on the average gradient,\n",
    "            # we calculate the specific gradient for each point and update the weights as we go\n",
    "            # The randomization of the N points is the stochastic element of this GD implementation\n",
    "        \n",
    "\n",
    "        # print w_gx\n",
    "        \n",
    "        w_gx_t_1 = w_gx  # w(t+1) = w(N)\n",
    "        \n",
    "        tolerance = np.linalg.norm(w_gx_t - w_gx_t_1)# ||w(t) - w(t + 1)||\n",
    "        # print np.linalg.norm(w_gx_t - w_gx_t_1)\n",
    "        tolerances.append(tolerance)\n",
    "        \n",
    "        w_gx_t = w_gx_t_1 # w(t) = w(t + 1)\n",
    "        epoch += 1\n",
    "    \n",
    "    w_gx_3d = w_gx_t\n",
    "    \n",
    "    return (w_fx_3d, w_gx_3d, X, Y, epoch, tolerances)"
   ]
  },
  {
   "cell_type": "code",
   "execution_count": 169,
   "metadata": {
    "collapsed": false
   },
   "outputs": [
    {
     "name": "stdout",
     "output_type": "stream",
     "text": [
      "Created initial random line with weights: [-1.07536728 -1.03279408]\n",
      "This run took approximately 352 epochs.\n"
     ]
    }
   ],
   "source": [
    "w_fx_3d, w_gx_3d, X, Y, epoch, tolerances = logistic_regression_SGD()\n",
    "print(\"This run took approximately {} epochs.\".format(epoch))"
   ]
  },
  {
   "cell_type": "code",
   "execution_count": 170,
   "metadata": {
    "collapsed": false
   },
   "outputs": [
    {
     "data": {
      "text/plain": [
       "[<matplotlib.lines.Line2D at 0x10dbba8d0>]"
      ]
     },
     "execution_count": 170,
     "metadata": {},
     "output_type": "execute_result"
    },
    {
     "data": {
      "image/png": "[encoded data removed]",
      "text/plain": [
       "<matplotlib.figure.Figure at 0x10e6f02d0>"
      ]
     },
     "metadata": {},
     "output_type": "display_data"
    }
   ],
   "source": [
    "plt.xlabel(\"$t$\")\n",
    "plt.ylabel(\"$\\Vert w{(t-1)} -  w{t}\\Vert$\")\n",
    "plt.plot(tolerances)"
   ]
  },
  {
   "cell_type": "code",
   "execution_count": 171,
   "metadata": {
    "collapsed": false
   },
   "outputs": [
    {
     "data": {
      "image/png": "[encoded data removed]",
      "text/plain": [
       "<matplotlib.figure.Figure at 0x10da39d10>"
      ]
     },
     "metadata": {},
     "output_type": "display_data"
    }
   ],
   "source": [
    "plt.title\n",
    "plot_points_and_lines(w_3dim_to_2dim(w_fx_3d), X, Y)"
   ]
  },
  {
   "cell_type": "code",
   "execution_count": 172,
   "metadata": {
    "collapsed": false
   },
   "outputs": [
    {
     "data": {
      "image/png": "[encoded data removed]",
      "text/plain": [
       "<matplotlib.figure.Figure at 0x10db2ad90>"
      ]
     },
     "metadata": {},
     "output_type": "display_data"
    }
   ],
   "source": [
    "plot_points_and_lines(w_3dim_to_2dim(w_gx_3d), X, Y, label=\"g(x)\")"
   ]
  },
  {
   "cell_type": "markdown",
   "metadata": {},
   "source": [
    "### 8. \n",
    "Which of the following is closest to Eout for N = 100?\n",
    "[a] 0.025\n",
    "[b] 0.050\n",
    "[c] 0.075\n",
    "[d] 0.100\n",
    "[e] 0.125"
   ]
  },
  {
   "cell_type": "code",
   "execution_count": 178,
   "metadata": {
    "collapsed": false
   },
   "outputs": [],
   "source": [
    "# In order to find the answer to 8), we simply run the above algorithm 100 times\n",
    "runs = 100\n",
    "E_outs = np.zeros(runs)\n",
    "epochs = np.zeros(runs)\n",
    "\n",
    "for run in range(runs):\n",
    "    w_fx_3d, w_gx_3d, X, Y, epoch, tolerances = logistic_regression_SGD(N=100)\n",
    "    E_outs[run] = np.mean(np.log(1 + np.exp(-Y * np.expand_dims(np.dot(X, w_gx_3d), 1))))\n",
    "    epochs[run] = epoch\n",
    "    \n",
    "avg_E_out = np.mean(E_outs)\n",
    "avg_epochs = np.mean(epochs)"
   ]
  },
  {
   "cell_type": "code",
   "execution_count": 179,
   "metadata": {
    "collapsed": false
   },
   "outputs": [
    {
     "name": "stdout",
     "output_type": "stream",
     "text": [
      "The average E_out over a 100 runs is 0.089\n"
     ]
    }
   ],
   "source": [
    "print(\"The average E_out over a 100 runs is {}\".format(round(avg_E_out, 3)))"
   ]
  },
  {
   "cell_type": "markdown",
   "metadata": {},
   "source": [
    "We see that the answer for **8)** should be [d] - 0.100"
   ]
  },
  {
   "cell_type": "markdown",
   "metadata": {},
   "source": [
    "### 9. \n",
    "\n",
    "How many epochs does it take on average for Logistic Regression to converge for\n",
    "N = 100 using the above initialization and termination rules and the specified\n",
    "learning rate? Pick the value that is closest to your results.\n",
    "[a] 350\n",
    "[b] 550\n",
    "[c] 750\n",
    "[d] 950\n",
    "[e] 1750"
   ]
  },
  {
   "cell_type": "code",
   "execution_count": 180,
   "metadata": {
    "collapsed": false
   },
   "outputs": [
    {
     "name": "stdout",
     "output_type": "stream",
     "text": [
      "The average epochs over a 100 runs is 319\n"
     ]
    }
   ],
   "source": [
    "print(\"The average epochs over a 100 runs is {}\".format(int(avg_epochs)))"
   ]
  },
  {
   "cell_type": "markdown",
   "metadata": {},
   "source": [
    "We see that the answer for **9)** should be **[a]** - 350"
   ]
  },
  {
   "cell_type": "code",
   "execution_count": null,
   "metadata": {
    "collapsed": true
   },
   "outputs": [],
   "source": []
  }
 ],
 "metadata": {
  "kernelspec": {
   "display_name": "Python [conda root]",
   "language": "python",
   "name": "conda-root-py"
  },
  "language_info": {
   "codemirror_mode": {
    "name": "ipython",
    "version": 2
   },
   "file_extension": ".py",
   "mimetype": "text/x-python",
   "name": "python",
   "nbconvert_exporter": "python",
   "pygments_lexer": "ipython2",
   "version": "2.7.13"
  }
 },
 "nbformat": 4,
 "nbformat_minor": 2
}
