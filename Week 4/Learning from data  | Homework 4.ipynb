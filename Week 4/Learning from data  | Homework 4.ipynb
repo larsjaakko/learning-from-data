{
 "cells": [
  {
   "cell_type": "markdown",
   "metadata": {},
   "source": [
    "# Learning from data - Homework 4"
   ]
  },
  {
   "cell_type": "code",
   "execution_count": 2,
   "metadata": {
    "collapsed": false
   },
   "outputs": [],
   "source": [
    "import math\n",
    "import matplotlib.pyplot as plt\n",
    "import numpy as np\n",
    "\n",
    "%matplotlib inline"
   ]
  },
  {
   "cell_type": "markdown",
   "metadata": {},
   "source": [
    "## Exercise 1\n",
    "For an H with dvc = 10, if you want 95% confidence that your generalization error is at most 0.05, what is the closest numerical approximation of the sample size that the VC generalization bound predicts?"
   ]
  },
  {
   "cell_type": "code",
   "execution_count": 4,
   "metadata": {
    "collapsed": false
   },
   "outputs": [
    {
     "name": "stdout",
     "output_type": "stream",
     "text": [
      "452956.832159\n"
     ]
    }
   ],
   "source": [
    "# Manually rerun until the number converges\n",
    "\n",
    "n = 452956.403785\n",
    "d = 10\n",
    "N = 3200 * math.log(81920 * math.pow(n, d) + 80)\n",
    "\n",
    "print (N)"
   ]
  },
  {
   "cell_type": "markdown",
   "metadata": {},
   "source": [
    "Closest to 460.000, which is alternative d)."
   ]
  },
  {
   "cell_type": "markdown",
   "metadata": {},
   "source": [
    "## Exercise 2\n",
    "There are a number of bounds on the generalization error ε, all holding with probability at least 1−δ. Fix dvc = 50 and δ = 0.05 and plot these bounds as a function of N. Which bound is the smallest for very large N, say N = 10,000? Note that [c] and [d] are implicit bounds in ε."
   ]
  },
  {
   "cell_type": "code",
   "execution_count": 5,
   "metadata": {
    "collapsed": true
   },
   "outputs": [],
   "source": [
    "dvc = 50\n",
    "delta = 0.05"
   ]
  },
  {
   "cell_type": "code",
   "execution_count": 6,
   "metadata": {
    "collapsed": true
   },
   "outputs": [],
   "source": [
    "#Stole this from solution to be able to avoid overflow errors with Devroye\n",
    "logmH = lambda constant, N, dvc: dvc * np.log(constant * N)  # approximately log(mH) "
   ]
  },
  {
   "cell_type": "code",
   "execution_count": 7,
   "metadata": {
    "collapsed": false
   },
   "outputs": [],
   "source": [
    "# Regular 'ol VC bound\n",
    "def vc(N):\n",
    "    return np.sqrt((8/N) * np.log(4*np.power(2*N, dvc)/delta))"
   ]
  },
  {
   "cell_type": "code",
   "execution_count": 8,
   "metadata": {
    "collapsed": true
   },
   "outputs": [],
   "source": [
    "# Rademacher Penalty bound\n",
    "def rademacher(N):\n",
    "    return np.sqrt(2*np.log(2*N*np.power(N, dvc))/N) + np.sqrt((2/N)*np.log(1/delta)) + (1/N)"
   ]
  },
  {
   "cell_type": "code",
   "execution_count": 9,
   "metadata": {
    "collapsed": true
   },
   "outputs": [],
   "source": [
    "# Parrondo and Van den Broek\n",
    "# This is implicitly defined in the exercise, so I need to explicitify it\n",
    "# Yes, that's a word\n",
    "# ..not really\n",
    "# Used closed form ax^2 + bx + c to find the explicit form, \n",
    "# assuming the generalization error will not take on negative values\n",
    "\n",
    "def parr_vdb(N):\n",
    "    return (1 + np.sqrt(N * (np.log(6 * np.power(2*N, dvc)) - np.log(delta)) + 1)) / N"
   ]
  },
  {
   "cell_type": "code",
   "execution_count": 10,
   "metadata": {
    "collapsed": false
   },
   "outputs": [],
   "source": [
    "# Devroye\n",
    "# Explicit form found from a solution on course forum\n",
    "# Could have used sympy or similar to optimize to the solution\n",
    "\n",
    "#def devroye(N):\n",
    "#    return (2 + np.sqrt(2 * N * (np.log(4) + logmH(1, N**2, dvc) - np.log(delta)) - 4 * (np.log(4) + logmH(1, N**2, dvc) - np.log(delta)) + 4) / (2 * (N - 2)))\n"
   ]
  },
  {
   "cell_type": "code",
   "execution_count": 13,
   "metadata": {
    "collapsed": false
   },
   "outputs": [
    {
     "data": {
      "text/plain": [
       "<function matplotlib.pyplot.show>"
      ]
     },
     "execution_count": 13,
     "metadata": {},
     "output_type": "execute_result"
    },
    {
     "data": {
      "image/png": "[encoded data removed]",
      "text/plain": [
       "<matplotlib.figure.Figure at 0x111296d90>"
      ]
     },
     "metadata": {},
     "output_type": "display_data"
    }
   ],
   "source": [
    "# Plotting the bounds\n",
    "\n",
    "t1 = np.arange(3, 16000, 100.0)\n",
    "\n",
    "epsilon_devroye = lambda N, dvc, delta: (2 + \n",
    "                                         np.sqrt(2 * N * (np.log(4) + logmH(1, N**2, dvc) - np.log(delta)) - \n",
    "                                                     4 * (np.log(4) + logmH(1, N**2, dvc) - np.log(delta)) + \n",
    "                                                        4)\n",
    "                                        ) / (2 * (N - 2))\n",
    "\n",
    "vc_line, = plt.plot(t1, vc(t1), label = 'VC Bound')\n",
    "rade_line, = plt.plot(t1, rademacher(t1), label = 'Rademacher')\n",
    "parr_vdb_line, = plt.plot(t1, parr_vdb(t1), label = 'Parr VDB')\n",
    "devroye_line, = plt.plot(t1, epsilon_devroye(t1, dvc, delta), label = 'Devroye')\n",
    "\n",
    "plt.ylim((0,1.0))\n",
    "\n",
    "plt.ylabel('Out of sample error, Eout')\n",
    "plt.xlabel('Number of samples, N')\n",
    "\n",
    "plt.legend(handles=[vc_line, rade_line, parr_vdb_line, devroye_line])\n",
    "\n",
    "plt.show"
   ]
  },
  {
   "cell_type": "markdown",
   "metadata": {},
   "source": [
    "Not quite clean, as I encountered some overflow issues, and due to laziness did not want to hunt for ways to numpy to accept my functions. Devroye function stolen from http://nbviewer.jupyter.org/github/tournami/Learning-From-Data-MOOC/blob/master/Homework%204.html\n",
    "\n",
    "Either way, the answer is **d) Devroye**"
   ]
  },
  {
   "cell_type": "markdown",
   "metadata": {},
   "source": [
    "## Exercise 3\n",
    "For the same values of dvc and δ of Problem 2, but for small N, say N = 5,\n",
    "which bound is the smallest?"
   ]
  },
  {
   "cell_type": "code",
   "execution_count": 23,
   "metadata": {
    "collapsed": false
   },
   "outputs": [
    {
     "data": {
      "image/png": "[encoded data removed]",
      "text/plain": [
       "<matplotlib.figure.Figure at 0x111259250>"
      ]
     },
     "metadata": {},
     "output_type": "display_data"
    }
   ],
   "source": [
    "N = np.float(5)\n",
    "epsilons = [vc(N), \n",
    "            rademacher(N),\n",
    "            parr_vdb(N),\n",
    "            epsilon_devroye(N, dvc, delta)] #Again using the stolen function\n",
    "\n",
    "bounds = (\"Original VC bound\", \n",
    "          \"Rademacher Penalty Bound\", \n",
    "          \"Parrondo and Van den Broek\", \n",
    "          \"Devroye\")\n",
    "\n",
    "#plt.title(\"$\\epsilon$ at $N=5$\")\n",
    "#plt.ylabel(\"$\\epsilon$\")\n",
    "\n",
    "plt.xticks([0, 1, 2, 3], bounds, rotation='vertical')\n",
    "\n",
    "plt.bar(np.arange(4), epsilons)\n",
    "plt.show()"
   ]
  },
  {
   "cell_type": "markdown",
   "metadata": {},
   "source": [
    "We see that **c) Parrondo and Van den Broek** has the lowest generalization error with a low N."
   ]
  },
  {
   "cell_type": "markdown",
   "metadata": {},
   "source": [
    "# Bias and Variance\n",
    "Consider the case where the target function f : [−1, 1] → R is given by f (x) = sin(πx) and the input probability distribution is uniform on [−1, 1]. Assume that the training set has only two examples (picked independently), and that the learning algorithm produces the hypothesis that minimizes the mean squared error on the examples.\n",
    "\n",
    "## Exercise 4\n",
    "Assume the learning model consists of all hypotheses of the form h(x) = ax. What is the expected value, g ̄(x), of the hypothesis produced by the learning algorithm (expected value with respect to the data set)? Express your g ̄(x) as aˆx, and round aˆ to two decimal digits only, then match exactly to one of the following answers."
   ]
  },
  {
   "cell_type": "code",
   "execution_count": 16,
   "metadata": {
    "collapsed": false
   },
   "outputs": [
    {
     "name": "stdout",
     "output_type": "stream",
     "text": [
      "g_bar(x) = 1.43x\n"
     ]
    }
   ],
   "source": [
    "def get_a_hat_list(K = 100000):\n",
    "    \"\"\"Returns a list of a_hats based on the\n",
    "       number of random samples K\n",
    "       \n",
    "       Args: \n",
    "           K: number of random samples\n",
    "       Returns:\n",
    "           a_hat_list: an array all the a_hats\n",
    "    \"\"\"\n",
    "    a_hat_list = np.zeros(K)\n",
    "    \n",
    "    x1 = np.random.uniform(-1, 1, K) # random 1st point for K trials\n",
    "    y1 = np.sin(np.pi * x1) # y values corresponding to the x1 values\n",
    "    x2 = np.random.uniform(-1, 1, K) # random 2nd point for K trials\n",
    "    y2 = np.sin(np.pi * x2) # y values corresponding to the x2 values\n",
    "\n",
    "    a_hat_list = (x1 * y1 + x2 * y2) / (x1 ** 2 + x2 ** 2) # K a_hats\n",
    "    \n",
    "    return a_hat_list\n",
    "\n",
    "a_hat_list = get_a_hat_list() # save for a_bar, g_bar, bias and variance in later problems\n",
    "a_bar = np.mean(a_hat_list)\n",
    "\n",
    "print(\"g_bar(x) = {}x\".format(round(a_bar, 2)))"
   ]
  },
  {
   "cell_type": "markdown",
   "metadata": {},
   "source": [
    "The answer is given as 1.43, meaning the solution is **e) None of the above**."
   ]
  },
  {
   "cell_type": "markdown",
   "metadata": {},
   "source": [
    "## Exercise 5\n",
    "What is the closest value to the bias in this case?\n",
    "\n",
    "We have that the expected difference between .."
   ]
  },
  {
   "cell_type": "code",
   "execution_count": 18,
   "metadata": {
    "collapsed": false
   },
   "outputs": [
    {
     "name": "stdout",
     "output_type": "stream",
     "text": [
      "bias = 0.27\n"
     ]
    }
   ],
   "source": [
    "x_range = np.linspace(-1, 1, 1000)\n",
    "bias = np.mean((1.43 * x_range - np.sin(np.pi * x_range))**2)\n",
    "print(\"bias = {}\".format(np.round(bias, 2)))"
   ]
  },
  {
   "cell_type": "markdown",
   "metadata": {},
   "source": [
    "The closest answer is **b) 0.3**"
   ]
  },
  {
   "cell_type": "markdown",
   "metadata": {},
   "source": [
    "## Exercise 6\n",
    "\n",
    "What is the closest value to the variance in this case?"
   ]
  },
  {
   "cell_type": "code",
   "execution_count": 20,
   "metadata": {
    "collapsed": false
   },
   "outputs": [
    {
     "name": "stdout",
     "output_type": "stream",
     "text": [
      "variance = 0.24\n"
     ]
    }
   ],
   "source": [
    "variance = np.mean((np.outer(a_hat_list, x_range) - a_bar * x_range)**2)\n",
    "print(\"variance = {}\".format(round(variance, 2)))"
   ]
  },
  {
   "cell_type": "markdown",
   "metadata": {},
   "source": [
    "The closest answer is **a) 0.2**"
   ]
  },
  {
   "cell_type": "code",
   "execution_count": null,
   "metadata": {
    "collapsed": true
   },
   "outputs": [],
   "source": []
  }
 ],
 "metadata": {
  "anaconda-cloud": {},
  "kernelspec": {
   "display_name": "Python [conda root]",
   "language": "python",
   "name": "conda-root-py"
  },
  "language_info": {
   "codemirror_mode": {
    "name": "ipython",
    "version": 2
   },
   "file_extension": ".py",
   "mimetype": "text/x-python",
   "name": "python",
   "nbconvert_exporter": "python",
   "pygments_lexer": "ipython2",
   "version": "2.7.13"
  }
 },
 "nbformat": 4,
 "nbformat_minor": 1
}
